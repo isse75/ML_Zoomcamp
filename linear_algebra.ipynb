{
 "cells": [
  {
   "cell_type": "markdown",
   "id": "b5864e51",
   "metadata": {},
   "source": [
    "**Linear Algebra**"
   ]
  },
  {
   "cell_type": "code",
   "execution_count": 4,
   "id": "48ba7bde",
   "metadata": {},
   "outputs": [],
   "source": [
    "import numpy as np"
   ]
  },
  {
   "cell_type": "code",
   "execution_count": 11,
   "id": "b4a80c82",
   "metadata": {},
   "outputs": [
    {
     "data": {
      "text/plain": [
       "4"
      ]
     },
     "execution_count": 11,
     "metadata": {},
     "output_type": "execute_result"
    }
   ],
   "source": [
    "u = np.array([2,3,4,5])  #vector 1\n",
    "v = np.array([6,7,8,9])  # vector 2\n",
    "\n",
    "u.shape[0]\n",
    "v.shape[0]"
   ]
  },
  {
   "cell_type": "code",
   "execution_count": null,
   "id": "715f4b39",
   "metadata": {},
   "outputs": [
    {
     "data": {
      "text/plain": [
       "np.int64(110)"
      ]
     },
     "execution_count": 17,
     "metadata": {},
     "output_type": "execute_result"
    }
   ],
   "source": [
    "def vector_vector_multiplication(u, v):  # function to create dot product (Explanation)\n",
    "    assert u.shape[0] == v.shape[0]      #ensures that both vectors are the same size for dot product\n",
    "    \n",
    "    n = u.shape[0]\n",
    "    \n",
    "    result = 0.0\n",
    "    \n",
    "    for i in range(n):\n",
    "        result = result + u[i] * v[i]\n",
    "    \n",
    "    return result\n",
    "\n",
    "vector_vector_multiplication(u, v)\n",
    "\n"
   ]
  },
  {
   "cell_type": "code",
   "execution_count": 18,
   "id": "a6e0a676",
   "metadata": {},
   "outputs": [
    {
     "data": {
      "text/plain": [
       "np.int64(110)"
      ]
     },
     "execution_count": 18,
     "metadata": {},
     "output_type": "execute_result"
    }
   ],
   "source": [
    "u.dot(v) # presents same outcome"
   ]
  },
  {
   "cell_type": "code",
   "execution_count": 20,
   "id": "38c5f3fe",
   "metadata": {},
   "outputs": [],
   "source": [
    "U = np.array([\n",
    "    [1,1,2],\n",
    "    [2,2,3],\n",
    "    [3,3,4]\n",
    "])"
   ]
  },
  {
   "cell_type": "code",
   "execution_count": 25,
   "id": "c65c0c77",
   "metadata": {},
   "outputs": [],
   "source": [
    "def matrix_vector_multiplication(U, v):\n",
    "    \n",
    "    assert U.shape[1] == v.shape[0]  #Number of columns on U (2nd Dimension) should mathc number of rows (v)\n",
    "    \n",
    "    no_of_rows = U.shape[0]\n",
    "    \n",
    "    result = np.zeros(no_of_rows)\n",
    "    \n",
    "    for i in range(no_of_rows):\n",
    "        result[i] = vector_vector_multiplication(U[i], v) \n",
    "    \n",
    "    return result"
   ]
  },
  {
   "cell_type": "code",
   "execution_count": 29,
   "id": "dbab5f83",
   "metadata": {},
   "outputs": [
    {
     "ename": "AssertionError",
     "evalue": "",
     "output_type": "error",
     "traceback": [
      "\u001b[31m---------------------------------------------------------------------------\u001b[39m",
      "\u001b[31mAssertionError\u001b[39m                            Traceback (most recent call last)",
      "\u001b[36mCell\u001b[39m\u001b[36m \u001b[39m\u001b[32mIn[29]\u001b[39m\u001b[32m, line 1\u001b[39m\n\u001b[32m----> \u001b[39m\u001b[32m1\u001b[39m matrix_vector_multiplication(U, v)\n",
      "\u001b[36mCell\u001b[39m\u001b[36m \u001b[39m\u001b[32mIn[25]\u001b[39m\u001b[32m, line 3\u001b[39m, in \u001b[36mmatrix_vector_multiplication\u001b[39m\u001b[34m(U, v)\u001b[39m\n\u001b[32m      1\u001b[39m \u001b[38;5;28;01mdef\u001b[39;00m\u001b[38;5;250m \u001b[39m\u001b[34mmatrix_vector_multiplication\u001b[39m(U, v):\n\u001b[32m----> \u001b[39m\u001b[32m3\u001b[39m     \u001b[38;5;28;01massert\u001b[39;00m U.shape[\u001b[32m1\u001b[39m] == v.shape[\u001b[32m0\u001b[39m]  \u001b[38;5;66;03m#Number of columns on U (2nd Dimension) should mathc number of rows (v)\u001b[39;00m\n\u001b[32m      5\u001b[39m     no_of_rows = U.shape[\u001b[32m0\u001b[39m]\n\u001b[32m      7\u001b[39m     result = np.zeros(no_of_rows)\n",
      "\u001b[31mAssertionError\u001b[39m: "
     ]
    }
   ],
   "source": [
    "matrix_vector_multiplication(U, v) #returns error as U has 3 columns, v has 4 rows"
   ]
  },
  {
   "cell_type": "code",
   "execution_count": 27,
   "id": "0208e8db",
   "metadata": {},
   "outputs": [
    {
     "data": {
      "text/plain": [
       "array([ 47.,  77., 107.])"
      ]
     },
     "execution_count": 27,
     "metadata": {},
     "output_type": "execute_result"
    }
   ],
   "source": [
    "P = np.array([\n",
    "    [1,1,2, 2],\n",
    "    [2,2,3, 3],\n",
    "    [3,3,4, 4]\n",
    "])\n",
    "\n",
    "matrix_vector_multiplication(P, v)"
   ]
  },
  {
   "cell_type": "code",
   "execution_count": 30,
   "id": "ba95c8ab",
   "metadata": {},
   "outputs": [],
   "source": [
    "V = np.array([\n",
    "    [2,3,4,5],\n",
    "    [6,7,8,9],\n",
    "    [10,11,12,13]\n",
    "])"
   ]
  },
  {
   "cell_type": "code",
   "execution_count": 31,
   "id": "3e988546",
   "metadata": {},
   "outputs": [],
   "source": [
    "def matrix_matrix_multiplication(U, V):\n",
    "    \n",
    "    assert U.shape[1] == V.shape[0]\n",
    "    \n",
    "    num_rows = U.shape[0]\n",
    "    num_cols = V.shape[1]\n",
    "    \n",
    "    result = np.zeros((num_rows, num_cols))\n",
    "    \n",
    "    for i in range(num_cols):\n",
    "        Vi = V[:, i]\n",
    "        UVi = matrix_vector_multiplication(U, Vi)\n",
    "        result[:, i] = UVi\n",
    "        \n",
    "    return result\n",
    "    "
   ]
  },
  {
   "cell_type": "code",
   "execution_count": 32,
   "id": "723861a0",
   "metadata": {},
   "outputs": [
    {
     "data": {
      "text/plain": [
       "array([[28., 32., 36., 40.],\n",
       "       [46., 53., 60., 67.],\n",
       "       [64., 74., 84., 94.]])"
      ]
     },
     "execution_count": 32,
     "metadata": {},
     "output_type": "execute_result"
    }
   ],
   "source": [
    "matrix_matrix_multiplication(U, V)"
   ]
  },
  {
   "cell_type": "code",
   "execution_count": 33,
   "id": "e689fc9f",
   "metadata": {},
   "outputs": [
    {
     "data": {
      "text/plain": [
       "array([[28, 32, 36, 40],\n",
       "       [46, 53, 60, 67],\n",
       "       [64, 74, 84, 94]])"
      ]
     },
     "execution_count": 33,
     "metadata": {},
     "output_type": "execute_result"
    }
   ],
   "source": [
    "U.dot(V) #returns same result"
   ]
  },
  {
   "cell_type": "code",
   "execution_count": null,
   "id": "a3b3f125",
   "metadata": {},
   "outputs": [],
   "source": []
  }
 ],
 "metadata": {
  "kernelspec": {
   "display_name": "ml-zoomcamp",
   "language": "python",
   "name": "python3"
  },
  "language_info": {
   "codemirror_mode": {
    "name": "ipython",
    "version": 3
   },
   "file_extension": ".py",
   "mimetype": "text/x-python",
   "name": "python",
   "nbconvert_exporter": "python",
   "pygments_lexer": "ipython3",
   "version": "3.12.11"
  }
 },
 "nbformat": 4,
 "nbformat_minor": 5
}
