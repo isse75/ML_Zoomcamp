{
 "cells": [
  {
   "cell_type": "markdown",
   "id": "7c21efbd-69b8-4087-9863-092d577b3d10",
   "metadata": {},
   "source": [
    "# Train"
   ]
  },
  {
   "cell_type": "code",
   "execution_count": 2,
   "id": "16636987-d076-431b-a4e7-be523e4e3f67",
   "metadata": {},
   "outputs": [],
   "source": [
    "import numpy as np\n",
    "import pandas as pd\n",
    "\n",
    "from sklearn.model_selection import train_test_split, GridSearchCV\n",
    "from sklearn.linear_model import LogisticRegression\n",
    "from sklearn.ensemble import RandomForestClassifier\n",
    "from sklearn.metrics import precision_score, recall_score, f1_score, accuracy_score, roc_auc_score, classification_report\n",
    "from sklearn.feature_extraction import DictVectorizer\n",
    "from xgboost import XGBClassifier\n",
    "\n",
    "import matplotlib.pyplot as plt\n",
    "import seaborn as sns\n",
    "%matplotlib inline\n",
    "\n",
    "import warnings\n",
    "warnings.filterwarnings('ignore')"
   ]
  },
  {
   "cell_type": "markdown",
   "id": "5ce0812b-4096-40d0-9842-a6594f98e4d2",
   "metadata": {},
   "source": [
    "## Data Cleaning and Prep"
   ]
  },
  {
   "cell_type": "code",
   "execution_count": 4,
   "id": "283b2c44-bd84-4b9d-a4ac-72dbb549e266",
   "metadata": {},
   "outputs": [
    {
     "name": "stdout",
     "output_type": "stream",
     "text": [
      "Dropped variables: duration, pdays\n"
     ]
    }
   ],
   "source": [
    "#Read Data into a DataFrame\n",
    "df = pd.read_csv('data/bank-additional-full.csv', delimiter= ';')\n",
    "df.columns = df.columns.str.replace('.', '_')\n",
    "\n",
    "#Drop Columns\n",
    "df = df.drop(columns=['emp_var_rate', 'cons_price_idx',\n",
    "       'cons_conf_idx', 'euribor3m', 'nr_employed'])\n",
    "\n",
    "#Map Education Values\n",
    "education_mapping = {\n",
    "    'illiterate': 'primary',\n",
    "    'basic.4y': 'primary',\n",
    "    'basic.6y': 'primary',\n",
    "    'basic.9y': 'primary',\n",
    "    'high.school': 'secondary',\n",
    "    'professional.course': 'secondary',\n",
    "    'university.degree': 'tertiary',\n",
    "    'unknown': 'unknown'\n",
    "}\n",
    "\n",
    "df['education'] = df['education'].map(education_mapping)\n",
    "\n",
    "df.y = (df.y=='yes').astype('int')\n",
    "\n",
    "df = df.drop(columns = ['pdays', 'duration'])\n",
    "\n",
    "\n",
    "print('Dropped variables: duration, pdays')\n",
    "\n",
    "    \n",
    "numerical = ['age', 'campaign', 'previous']\n",
    "\n",
    "categorical = ['job', 'marital', 'education', 'default', 'housing', \n",
    "               'loan', 'contact', 'month', 'day_of_week', 'poutcome']"
   ]
  },
  {
   "cell_type": "code",
   "execution_count": 5,
   "id": "32d643bc-f8a7-4f4f-bec0-0c5fbbd26ece",
   "metadata": {},
   "outputs": [],
   "source": [
    "def split_data(df):\n",
    "    df_full_train, df_test = train_test_split(df, test_size=0.2, random_state=1, shuffle=True, stratify=df['y'])\n",
    "    df_train, df_val = train_test_split(df_full_train, test_size=0.25, random_state=1, shuffle=True, stratify=df_full_train['y'])\n",
    "\n",
    "    df_train = df_train.reset_index(drop=True)\n",
    "    df_val = df_val.reset_index(drop=True)\n",
    "    df_test = df_test.reset_index(drop=True)\n",
    "    \n",
    "    y_train = df_train.y.values\n",
    "    y_val = df_val.y.values\n",
    "    y_test = df_test.y.values\n",
    "    \n",
    "    del df_train['y']\n",
    "    del df_val['y']\n",
    "    del df_test['y']\n",
    "\n",
    "    return df_full_train, df_train, df_val, df_test, y_train, y_val, y_test\n",
    "\n",
    "def transform_data(df): \n",
    "    df_full_train, df_train, df_val, df_test, y_train, y_val, y_test = split_data(df)\n",
    "    dicts_train = df_train.to_dict(orient='records')\n",
    "    dicts_val = df_val.to_dict(orient='records')\n",
    "    dicts_test = df_test.to_dict(orient='records')\n",
    "    \n",
    "    dv = DictVectorizer(sparse=False)\n",
    "    \n",
    "    X_train = dv.fit_transform(dicts_train)\n",
    "    X_val = dv.transform(dicts_val)\n",
    "    X_test = dv.transform(dicts_test)\n",
    "\n",
    "    return dicts_train, dicts_val, dicts_test, X_train, X_val, X_test\n"
   ]
  },
  {
   "cell_type": "code",
   "execution_count": 6,
   "id": "6817fab5-58fc-41d3-866b-75fe86a80c76",
   "metadata": {},
   "outputs": [],
   "source": [
    "def train(df_train, y_train, model):\n",
    "    dict_train = df_train.to_dict(orient = 'records')\n",
    "\n",
    "    dv = DictVectorizer(sparse=False)\n",
    "    \n",
    "    X_train = dv.fit_transform(dict_train)\n",
    "\n",
    "    model = model\n",
    "    \n",
    "    model.fit(X_train, y_train)\n",
    "\n",
    "    return dv\n",
    "\n",
    "\n",
    "def predict(df, dv, model):\n",
    "    dicts = df.to_dict(orient='records')\n",
    "\n",
    "    X = dv.transform(dicts)\n",
    "\n",
    "    y_pred = model.predict_proba(X)[:,1]\n",
    "\n",
    "    return y_pred\n",
    "\n",
    "def identify_thresholds(y_val, y_pred):\n",
    "    thresholds = np.linspace(0,1,101)\n",
    "    results = []\n",
    "    for t in thresholds:\n",
    "        y_pred_bin = (y_pred >= t).astype(int)\n",
    "        precision = precision_score(y_val, y_pred_bin)\n",
    "        recall = recall_score(y_val, y_pred_bin)\n",
    "        f1 = f1_score(y_val, y_pred_bin)\n",
    "        results.append((t, precision, recall, f1))\n",
    "    \n",
    "    df_scores = pd.DataFrame(results, columns = ['threshold', 'precision', 'recall', 'f1_score'])\n",
    "    \n",
    "    best_row = df_scores.iloc[df_scores['f1_score'].idxmax()]\n",
    "\n",
    "    print('Threshold with Highest F1 Score:', best_row[0]),\n",
    "    print('Precision Score:', best_row[1])\n",
    "    print('Recall Score:', best_row[2])\n",
    "    print('F1 Score:', best_row[3])\n",
    "    "
   ]
  },
  {
   "cell_type": "markdown",
   "id": "9a608ab6-22cb-4b11-a4a1-020547ed4227",
   "metadata": {},
   "source": [
    "### Logistic Regression"
   ]
  },
  {
   "cell_type": "code",
   "execution_count": 8,
   "id": "fbd52ad2-01b0-43ce-a691-d1ccc997a590",
   "metadata": {},
   "outputs": [],
   "source": [
    "df_full_train, df_train, df_val, df_test, y_train, y_val, y_test = split_data(df)\n",
    "dicts_train, dicts_val, dicts_test, X_train, X_val, X_test = transform_data(df)"
   ]
  },
  {
   "cell_type": "code",
   "execution_count": 9,
   "id": "27ce785c-b1a2-4185-bd6d-84ceb945ea54",
   "metadata": {
    "scrolled": true
   },
   "outputs": [
    {
     "name": "stdout",
     "output_type": "stream",
     "text": [
      "Training Logistic Regression\n",
      "\n",
      "Indentifying Optimal Threshold\n",
      "Threshold with Highest F1 Score: 0.19\n",
      "Precision Score: 0.4513574660633484\n",
      "Recall Score: 0.42995689655172414\n",
      "F1 Score: 0.44039735099337746\n",
      "None\n"
     ]
    }
   ],
   "source": [
    "print('Training Logistic Regression')\n",
    "print()\n",
    "print('Indentifying Optimal Threshold')\n",
    "\n",
    "model = LogisticRegression(solver='lbfgs')\n",
    "\n",
    "dv = train(df_train, y_train, model)\n",
    "\n",
    "y_pred = predict(df_val, dv, model)\n",
    "\n",
    "\n",
    "print(identify_thresholds(y_val, y_pred))"
   ]
  },
  {
   "cell_type": "code",
   "execution_count": 10,
   "id": "7f1b2633-63a8-4d27-9d64-6c56be79be5c",
   "metadata": {
    "scrolled": true
   },
   "outputs": [
    {
     "name": "stdout",
     "output_type": "stream",
     "text": [
      "Training Final Logistic Regression Model\n",
      "\n",
      "auc of the final Logistic Regression model = 0.7652327350346715\n"
     ]
    }
   ],
   "source": [
    "#Final Model\n",
    "print('Training Final Logistic Regression Model')\n",
    "print()\n",
    "\n",
    "df_full_train, df_train, df_val, df_test, y_train, y_val, y_test = split_data(df)\n",
    "dicts_train, dicts_val, dicts_test, X_train, X_val, X_test = transform_data(df)\n",
    "\n",
    "y_full_train = df_full_train['y'].values\n",
    "df_full_train = df_full_train.drop(columns = ['y'])\n",
    "\n",
    "dv = train(df_full_train, y_full_train, model)\n",
    "\n",
    "y_pred = predict(df_test, dv, model)\n",
    "\n",
    "deposit_decision = (y_pred >= 0.19).astype(int)\n",
    "\n",
    "auc = roc_auc_score(y_test, y_pred)\n",
    "\n",
    "print(f'auc of the final Logistic Regression model = {auc}')"
   ]
  },
  {
   "cell_type": "code",
   "execution_count": 11,
   "id": "e54430dd-0d69-4aa2-9355-932f688d38dd",
   "metadata": {
    "scrolled": true
   },
   "outputs": [
    {
     "name": "stdout",
     "output_type": "stream",
     "text": [
      "Saving Logistic Regression Model Metrics....\n",
      "{'Model': 'Logistic Regression', 'ROC AUC': 0.7652327350346715, 'F1': 0.44148936170212766, 'Precision': 0.43592436974789917, 'Recall': 0.44719827586206895, 'Accuracy': 0.8725418790968682}\n",
      "\n",
      "Logistic Regression Model Metrics Saved\n"
     ]
    }
   ],
   "source": [
    "print('Saving Logistic Regression Model Metrics....')\n",
    "\n",
    "\n",
    "metrics_lr = {\n",
    "    'Model': 'Logistic Regression',\n",
    "    'ROC AUC': roc_auc_score(y_test, y_pred),\n",
    "    'F1': f1_score(y_test, deposit_decision),\n",
    "    'Precision': precision_score(y_test, deposit_decision),\n",
    "    'Recall': recall_score(y_test, deposit_decision),\n",
    "    'Accuracy': accuracy_score(y_test, deposit_decision)\n",
    "}\n",
    "\n",
    "print(metrics_lr)\n",
    "\n",
    "print()\n",
    "\n",
    "print('Logistic Regression Model Metrics Saved')\n"
   ]
  },
  {
   "cell_type": "markdown",
   "id": "3764d36c-99ac-4460-9330-3fabd3993feb",
   "metadata": {},
   "source": [
    "### Random Forest"
   ]
  },
  {
   "cell_type": "code",
   "execution_count": 13,
   "id": "672df9b3-84bc-4294-8aa0-92983c119095",
   "metadata": {},
   "outputs": [],
   "source": [
    "df_full_train, df_train, df_val, df_test, y_train, y_val, y_test = split_data(df)\n",
    "dicts_train, dicts_val, dicts_test, X_train, X_val, X_test = transform_data(df)"
   ]
  },
  {
   "cell_type": "code",
   "execution_count": 14,
   "id": "9b4cd285-418f-451c-93d1-49d4b8a67398",
   "metadata": {},
   "outputs": [
    {
     "name": "stdout",
     "output_type": "stream",
     "text": [
      "Training Random Forest Classifier....\n",
      "Identifying Best Performing Parameters\n",
      "\n",
      "Optimal max_depth = 15\n",
      "Optimal min_samples_leaf = 20\n"
     ]
    }
   ],
   "source": [
    "print('Training Random Forest Classifier....')\n",
    "print('Identifying Best Performing Parameters')\n",
    "print()\n",
    "scores = []\n",
    "for d in [4, 5, 6, 7, 10, 15, 20, None]:\n",
    "    for s in [1, 2, 5, 10, 15, 20, 100, 200, 500]:\n",
    "        rf = RandomForestClassifier(max_depth=d, \n",
    "                                    min_samples_leaf=s, \n",
    "                                    n_jobs=-1)\n",
    "        rf.fit(X_train, y_train)\n",
    "        \n",
    "        y_pred = rf.predict_proba(X_val)[:, 1]\n",
    "        auc = roc_auc_score(y_val, y_pred)\n",
    "        \n",
    "        scores.append((d, s, auc))\n",
    "\n",
    "columns = ['max_depth', 'min_samples_leaf', 'auc']\n",
    "df_scores = pd.DataFrame(scores, columns=columns)\n",
    "best_score = df_scores.iloc[df_scores['auc'].idxmax()]\n",
    "max_depth = best_score[0].astype(int)\n",
    "min_samples_leaf = best_score[1].astype(int)\n",
    "\n",
    "print(f'Optimal max_depth = {max_depth}')\n",
    "print(f'Optimal min_samples_leaf = {min_samples_leaf}')"
   ]
  },
  {
   "cell_type": "code",
   "execution_count": 15,
   "id": "298aaef9-600a-4a73-8f72-b51fb3dc0e93",
   "metadata": {},
   "outputs": [
    {
     "name": "stdout",
     "output_type": "stream",
     "text": [
      "Threshold with Highest F1 Score: 0.2\n",
      "Precision Score: 0.45096056622851366\n",
      "Recall Score: 0.48060344827586204\n",
      "F1 Score: 0.46531038080333853\n",
      "None\n"
     ]
    }
   ],
   "source": [
    "model = RandomForestClassifier(max_depth=max_depth,\n",
    "                            min_samples_leaf=min_samples_leaf,\n",
    "                            n_jobs = -1,\n",
    "                            random_state=1)\n",
    "\n",
    "dv = train(df_train, y_train, model)\n",
    "y_pred = predict(df_val, dv, model)\n",
    "\n",
    "print(identify_thresholds(y_val, y_pred))"
   ]
  },
  {
   "cell_type": "code",
   "execution_count": 16,
   "id": "85b29778-f0d6-4315-b3f1-7adfa751bb7d",
   "metadata": {},
   "outputs": [
    {
     "name": "stdout",
     "output_type": "stream",
     "text": [
      "Training Final Random Forest Model\n",
      "\n",
      "auc of the final Logistic Regression model = 0.7734854828057928\n"
     ]
    }
   ],
   "source": [
    "#Training Final Random Forest Model\n",
    "print('Training Final Random Forest Model')\n",
    "print()\n",
    "df_full_train, df_train, df_val, df_test, y_train, y_val, y_test = split_data(df)\n",
    "dicts_train, dicts_val, dicts_test, X_train, X_val, X_test = transform_data(df)\n",
    "\n",
    "y_full_train = df_full_train['y'].values\n",
    "df_full_train = df_full_train.drop(columns = ['y'])\n",
    "\n",
    "dv = train(df_full_train, y_full_train, model)\n",
    "\n",
    "y_pred = predict(df_test, dv, model)\n",
    "\n",
    "deposit_decision = (y_pred >= 0.21).astype(int)\n",
    "\n",
    "auc = roc_auc_score(y_test, y_pred)\n",
    "\n",
    "print(f'auc of the final Logistic Regression model = {auc}')"
   ]
  },
  {
   "cell_type": "code",
   "execution_count": 17,
   "id": "fbd5dc0d-cf53-4563-968c-d3bb99fe319e",
   "metadata": {
    "scrolled": true
   },
   "outputs": [
    {
     "name": "stdout",
     "output_type": "stream",
     "text": [
      "Saving Random Forest Model Metrics....\n",
      "{'Model': 'Random Forest', 'ROC AUC': 0.7734854828057928, 'F1': 0.477829942618675, 'Precision': 0.46309403437815977, 'Recall': 0.49353448275862066, 'Accuracy': 0.8784899247390143}\n",
      "\n",
      "Random Forest Model Metrics Saved\n"
     ]
    }
   ],
   "source": [
    "print('Saving Random Forest Model Metrics....')\n",
    "\n",
    "\n",
    "metrics_rf = {\n",
    "    'Model': 'Random Forest',\n",
    "    'ROC AUC': roc_auc_score(y_test, y_pred),\n",
    "    'F1': f1_score(y_test, deposit_decision),\n",
    "    'Precision': precision_score(y_test, deposit_decision),\n",
    "    'Recall': recall_score(y_test, deposit_decision),\n",
    "    'Accuracy': accuracy_score(y_test, deposit_decision)\n",
    "}\n",
    "\n",
    "print(metrics_rf)\n",
    "\n",
    "print()\n",
    "\n",
    "print('Random Forest Model Metrics Saved')"
   ]
  },
  {
   "cell_type": "markdown",
   "id": "5533f96a-5255-42e0-8a81-eeb0808eb81f",
   "metadata": {},
   "source": [
    "#### Random Forest Model Approach and Summary"
   ]
  },
  {
   "cell_type": "markdown",
   "id": "c832b200-ac29-43ec-ae21-13dc61913429",
   "metadata": {},
   "source": [
    "**Data Splitting**: The dataset was split into training, validation, and test sets, with stratification to preserve class balance and avoid data leakage.\n",
    "\n",
    "**Feature Engineering**: Categorical and numerical features were prepared using DictVectorizer, suitable for scikit-learn models and mixed-type data.\n",
    "\n",
    "**Model Selection**: Random Forest was chosen as a robust baseline for binary classification, as it handles both categorical and numerical features well and is relatively insensitive to feature scaling.\n",
    "\n",
    "**Hyperparameter Tuning**: I performed a grid search over max_depth and min_samples_leaf, visualised results with a heatmap, and then tuned n_estimators. Given that multiple parameter combinations produced similar results, I manually selected a representative set of hyperparameters for clarity and reproducibility.\n",
    "\n",
    "**Evaluation**: The model was evaluated using ROC AUC, F1, Precision, Recall, and Accuracy on the held-out test set. All model decisions were made without referencing the test data.\n",
    "\n",
    "**Reproducibility**: Key choices and manual selections are documented here and will be explained further in the project README."
   ]
  },
  {
   "cell_type": "markdown",
   "id": "c483a302-0269-4b55-a73c-e328aacc5b73",
   "metadata": {},
   "source": [
    "### XGBoost"
   ]
  },
  {
   "cell_type": "code",
   "execution_count": 21,
   "id": "3cfb4cda-930f-4d4b-8791-213e229b2259",
   "metadata": {
    "jp-MarkdownHeadingCollapsed": true
   },
   "outputs": [],
   "source": [
    "df_full_train, df_train, df_val, df_test, y_train, y_val, y_test = split_data(df)\n",
    "dicts_train, dicts_val, dicts_test, X_train, X_val, X_test = transform_data(df)"
   ]
  },
  {
   "cell_type": "code",
   "execution_count": 22,
   "id": "6be28e2c-70dd-4acf-8cb0-041cf652b98e",
   "metadata": {},
   "outputs": [],
   "source": [
    "y_full_train = df_full_train['y'].values\n",
    "dicts_full_train = df_full_train.drop(columns=['y']).to_dict(orient='records')\n",
    "\n",
    "dv_full = DictVectorizer(sparse=False)\n",
    "X_full_train = dv_full.fit_transform(dicts_full_train)"
   ]
  },
  {
   "cell_type": "code",
   "execution_count": 23,
   "id": "d7993f09-cb3a-4069-a63b-407d107b4820",
   "metadata": {},
   "outputs": [
    {
     "name": "stdout",
     "output_type": "stream",
     "text": [
      "Training XGBoost Classifier....\n",
      "Identifying Best Performing Parameters\n",
      "\n"
     ]
    }
   ],
   "source": [
    "print('Training XGBoost Classifier....')\n",
    "print('Identifying Best Performing Parameters')\n",
    "print()\n",
    "\n",
    "#Defining grid of parameters I want to mearues\n",
    "param_grid = {\n",
    "    'learning_rate': [0.01, 0.05, 0.1],    # eta\n",
    "    'max_depth':      [3, 5, 7, 10],\n",
    "    'min_child_weight':[1, 3, 5, 10]\n",
    "}\n",
    "\n",
    "#Initialising the classifier\n",
    "xgb = XGBClassifier(\n",
    "    eval_metric='logloss',\n",
    "    scale_pos_weight=(len(y_full_train) - sum(y_full_train)) / sum(y_full_train),  # handle imbalance\n",
    "    random_state=1\n",
    ")"
   ]
  },
  {
   "cell_type": "code",
   "execution_count": 24,
   "id": "71f74e4e-3e0c-4ba8-9b27-b62668d9d3c6",
   "metadata": {},
   "outputs": [
    {
     "name": "stdout",
     "output_type": "stream",
     "text": [
      "Fitting 5 folds for each of 48 candidates, totalling 240 fits\n",
      "Best params: {'learning_rate': 0.05, 'max_depth': 5, 'min_child_weight': 10}\n",
      "Best CV F1: 0.4376486736589419\n"
     ]
    }
   ],
   "source": [
    "#GridSearch to optimise F1\n",
    "grid = GridSearchCV(\n",
    "    estimator=xgb,\n",
    "    param_grid=param_grid,\n",
    "    scoring='f1',\n",
    "    cv=5,\n",
    "    n_jobs=-1,\n",
    "    verbose=1\n",
    ")\n",
    "\n",
    "\n",
    "grid.fit(X_full_train, y_full_train)\n",
    "print(\"Best params:\", grid.best_params_)\n",
    "print(\"Best CV F1:\", grid.best_score_)"
   ]
  },
  {
   "cell_type": "code",
   "execution_count": 25,
   "id": "ea60a6d1-85e8-41c5-9c93-968254eb047b",
   "metadata": {},
   "outputs": [
    {
     "name": "stdout",
     "output_type": "stream",
     "text": [
      "Identifying Optimal Threshold\n",
      "\n",
      "Threshold with Highest F1 Score: 0.61\n",
      "Precision Score: 0.4616182572614108\n",
      "Recall Score: 0.4795258620689655\n",
      "F1 Score: 0.4704016913319239\n",
      "None\n"
     ]
    }
   ],
   "source": [
    "print('Identifying Optimal Threshold')\n",
    "print()\n",
    "model = grid.best_estimator_\n",
    "\n",
    "dv = train(df_train, y_train, model)\n",
    "y_pred = predict(df_val, dv, model)\n",
    "\n",
    "print(identify_thresholds(y_val, y_pred))"
   ]
  },
  {
   "cell_type": "code",
   "execution_count": 26,
   "id": "02866615-b812-4be4-adf8-a4786a6ab9cf",
   "metadata": {},
   "outputs": [
    {
     "name": "stdout",
     "output_type": "stream",
     "text": [
      "Training Final Random Forest Model\n",
      "\n"
     ]
    }
   ],
   "source": [
    "print('Training Final Random Forest Model')\n",
    "print()\n",
    "y_pred = predict(df_test, dv, model)\n",
    "\n",
    "deposit_decision = (y_pred >= 0.61).astype(int)  # reuse your tuned threshold"
   ]
  },
  {
   "cell_type": "code",
   "execution_count": 27,
   "id": "59bd9a37-fa85-4c86-af5a-61c5222a7471",
   "metadata": {},
   "outputs": [
    {
     "name": "stdout",
     "output_type": "stream",
     "text": [
      "Saving Random Forest Model Metrics....\n",
      "{'Model': 'XGBoost', 'ROC AUC': 0.7767672561205716, 'F1': 0.47131782945736433, 'Precision': 0.4528301886792453, 'Recall': 0.49137931034482757, 'Accuracy': 0.8758193736343772}\n",
      "\n",
      "Random Forest Model Metrics Saved\n"
     ]
    }
   ],
   "source": [
    "print('Saving Random Forest Model Metrics....')\n",
    "\n",
    "metrics_xgb = {\n",
    "    'Model': 'XGBoost',\n",
    "    'ROC AUC': roc_auc_score(y_test, y_pred),\n",
    "    'F1': f1_score(y_test, deposit_decision),\n",
    "    'Precision': precision_score(y_test, deposit_decision),\n",
    "    'Recall': recall_score(y_test, deposit_decision),\n",
    "    'Accuracy': accuracy_score(y_test, deposit_decision)\n",
    "}\n",
    "\n",
    "print(metrics_xgb)\n",
    "\n",
    "print()\n",
    "print('Random Forest Model Metrics Saved')"
   ]
  },
  {
   "cell_type": "markdown",
   "id": "5b80b9d3-9298-4688-88f5-970c224d42fe",
   "metadata": {},
   "source": [
    "## Comparison of Models"
   ]
  },
  {
   "cell_type": "markdown",
   "id": "3c3425b5-b59d-4f76-81c6-4312d221c0e3",
   "metadata": {},
   "source": [
    "- Remaining features have relatively low individual correlations with the target variable `y`\n",
    "- XGBoost excels at finding feature interactions and non-linear patterns\n",
    "- Random Forest would struggle more with these weak individual signals\n",
    "- With weak individual features AND imbalanced classes, We need XGBoost's sophistication"
   ]
  },
  {
   "cell_type": "markdown",
   "id": "5b89327b-3ed5-49f6-861e-0f7d084b4cb5",
   "metadata": {},
   "source": [
    "### XGBoost Model Insights"
   ]
  },
  {
   "cell_type": "code",
   "execution_count": 31,
   "id": "cea17e3e-f677-4443-805b-9a4ccb87c553",
   "metadata": {},
   "outputs": [],
   "source": [
    "from sklearn.metrics import roc_curve"
   ]
  },
  {
   "cell_type": "code",
   "execution_count": 32,
   "id": "78ca66d9-24e9-4035-a0aa-cff08069c376",
   "metadata": {},
   "outputs": [
    {
     "data": {
      "image/png": "[encoded data removed]",
      "text/plain": [
       "<Figure size 640x480 with 1 Axes>"
      ]
     },
     "metadata": {},
     "output_type": "display_data"
    }
   ],
   "source": [
    "fpr, tpr, thresholds = roc_curve(y_test, y_pred)\n",
    "auc = roc_auc_score(y_test, y_pred)\n",
    "\n",
    "plt.plot(fpr, tpr, color='#1f77b4', label=f\"Model ROC (AUC = {auc:.3f})\")  \n",
    "plt.plot([0, 1], [0, 1], '--', color='#ff7f0e', label=\"Random Classifier\")  \n",
    "plt.xlabel(\"False Positive Rate\")\n",
    "plt.ylabel(\"True Positive Rate\")\n",
    "plt.title(\"ROC Curve – XGBoost\")\n",
    "plt.legend()\n",
    "plt.show()"
   ]
  },
  {
   "cell_type": "code",
   "execution_count": 34,
   "id": "a1da48ef-23e9-4e44-86ab-c92dbee64fb3",
   "metadata": {},
   "outputs": [
    {
     "name": "stdout",
     "output_type": "stream",
     "text": [
      "Top 10 Features:\n",
      "             feature  importance\n",
      "50  poutcome=success    0.332893\n",
      "2   contact=cellular    0.133043\n",
      "46         month=oct    0.063317\n",
      "43         month=mar    0.055319\n",
      "9         default=no    0.052723\n",
      "42         month=jun    0.044652\n",
      "47         month=sep    0.035872\n",
      "38         month=apr    0.023105\n",
      "40         month=dec    0.019671\n",
      "41         month=jul    0.016541\n"
     ]
    }
   ],
   "source": [
    "#Feature Importance\n",
    "feature_names = dv_full.feature_names_\n",
    "importance_scores = model.feature_importances_\n",
    "\n",
    "# Create clean DataFrame\n",
    "feature_importance_df = pd.DataFrame({\n",
    "    'feature': feature_names,\n",
    "    'importance': importance_scores\n",
    "}).sort_values('importance', ascending=False)\n",
    "\n",
    "# Top 10 with clean names\n",
    "print(\"Top 10 Features:\")\n",
    "print(feature_importance_df.head(10)[['feature', 'importance']])"
   ]
  },
  {
   "cell_type": "code",
   "execution_count": 36,
   "id": "ef7a1261-9b06-45bd-aa8a-7ad6997e12ef",
   "metadata": {},
   "outputs": [
    {
     "data": {
      "image/png": "[encoded data removed]",
      "text/plain": [
       "<Figure size 1000x600 with 1 Axes>"
      ]
     },
     "metadata": {},
     "output_type": "display_data"
    }
   ],
   "source": [
    "# Simple plot with clean names\n",
    "top_10 = feature_importance_df.head(10)\n",
    "plt.figure(figsize=(10, 6))\n",
    "plt.barh(top_10['feature'], top_10['importance'])\n",
    "plt.title('Feature Importance - XGBoost')\n",
    "plt.gca().invert_yaxis()\n",
    "plt.show()"
   ]
  },
  {
   "cell_type": "markdown",
   "id": "e8f99224-ac2d-4294-88f1-b9f7dcb0d465",
   "metadata": {},
   "source": [
    "**Key Insights:**\n",
    "\n",
    "1. `poutcome=success` dominates (**~0.35**)\n",
    "\n",
    "- Previous campaign success is the strongest predictor.\n",
    "Makes sense as Past behavior predicts future behavior.\n",
    "\n",
    "2. `contact=cellular` is 2nd (**~0.12**)\n",
    "\n",
    "- Contact method matters significantly.\n",
    "Cellular contacts are more effective than telephone.\n",
    "\n",
    "3. **Seasonal patterns matter**:\n",
    "\n",
    "- March, June, October show up in top features.\n",
    "Marketing timing is crucial.\n",
    "\n",
    "4. `default=no` in **top 10**:\n",
    "\n",
    "- Credit history matters for financial products."
   ]
  }
 ],
 "metadata": {
  "kernelspec": {
   "display_name": "Python 3 (ipykernel)",
   "language": "python",
   "name": "python3"
  },
  "language_info": {
   "codemirror_mode": {
    "name": "ipython",
    "version": 3
   },
   "file_extension": ".py",
   "mimetype": "text/x-python",
   "name": "python",
   "nbconvert_exporter": "python",
   "pygments_lexer": "ipython3",
   "version": "3.12.4"
  }
 },
 "nbformat": 4,
 "nbformat_minor": 5
}
