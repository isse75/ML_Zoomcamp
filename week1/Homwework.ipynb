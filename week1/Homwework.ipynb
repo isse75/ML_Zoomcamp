{
 "cells": [
  {
   "cell_type": "markdown",
   "id": "5fec3083",
   "metadata": {},
   "source": [
    "**Homework**"
   ]
  },
  {
   "cell_type": "markdown",
   "id": "5d318f56",
   "metadata": {},
   "source": [
    "**2024**"
   ]
  },
  {
   "cell_type": "code",
   "execution_count": 1,
   "id": "d0007de4",
   "metadata": {},
   "outputs": [],
   "source": [
    "import pandas as pd\n",
    "import numpy as np"
   ]
  },
  {
   "cell_type": "code",
   "execution_count": 2,
   "id": "e3961fe6",
   "metadata": {},
   "outputs": [],
   "source": [
    "df = pd.read_csv('laptops.csv')"
   ]
  },
  {
   "cell_type": "code",
   "execution_count": 3,
   "id": "7eff04dc",
   "metadata": {},
   "outputs": [
    {
     "name": "stdout",
     "output_type": "stream",
     "text": [
      "<class 'pandas.core.frame.DataFrame'>\n",
      "RangeIndex: 2160 entries, 0 to 2159\n",
      "Data columns (total 12 columns):\n",
      " #   Column        Non-Null Count  Dtype  \n",
      "---  ------        --------------  -----  \n",
      " 0   Laptop        2160 non-null   object \n",
      " 1   Status        2160 non-null   object \n",
      " 2   Brand         2160 non-null   object \n",
      " 3   Model         2160 non-null   object \n",
      " 4   CPU           2160 non-null   object \n",
      " 5   RAM           2160 non-null   int64  \n",
      " 6   Storage       2160 non-null   int64  \n",
      " 7   Storage type  2118 non-null   object \n",
      " 8   GPU           789 non-null    object \n",
      " 9   Screen        2156 non-null   float64\n",
      " 10  Touch         2160 non-null   object \n",
      " 11  Final Price   2160 non-null   float64\n",
      "dtypes: float64(2), int64(2), object(8)\n",
      "memory usage: 202.6+ KB\n",
      "There are 2160 records\n"
     ]
    }
   ],
   "source": [
    "## How many records in dataset\n",
    "\n",
    "df.info()\n",
    "print(\"There are 2160 records\")"
   ]
  },
  {
   "cell_type": "code",
   "execution_count": 4,
   "id": "4e546280",
   "metadata": {},
   "outputs": [
    {
     "name": "stdout",
     "output_type": "stream",
     "text": [
      "There are 27 brands\n"
     ]
    }
   ],
   "source": [
    "##How Many Laptop Brands\n",
    "\n",
    "unique_brands = df['Brand'].unique()\n",
    "\n",
    "print(\"There are\",len(unique_brands), \"brands\" )"
   ]
  },
  {
   "cell_type": "code",
   "execution_count": 5,
   "id": "dc4a7d6e",
   "metadata": {},
   "outputs": [
    {
     "name": "stdout",
     "output_type": "stream",
     "text": [
      "<class 'pandas.core.frame.DataFrame'>\n",
      "RangeIndex: 2160 entries, 0 to 2159\n",
      "Data columns (total 12 columns):\n",
      " #   Column        Non-Null Count  Dtype  \n",
      "---  ------        --------------  -----  \n",
      " 0   Laptop        2160 non-null   object \n",
      " 1   Status        2160 non-null   object \n",
      " 2   Brand         2160 non-null   object \n",
      " 3   Model         2160 non-null   object \n",
      " 4   CPU           2160 non-null   object \n",
      " 5   RAM           2160 non-null   int64  \n",
      " 6   Storage       2160 non-null   int64  \n",
      " 7   Storage type  2118 non-null   object \n",
      " 8   GPU           789 non-null    object \n",
      " 9   Screen        2156 non-null   float64\n",
      " 10  Touch         2160 non-null   object \n",
      " 11  Final Price   2160 non-null   float64\n",
      "dtypes: float64(2), int64(2), object(8)\n",
      "memory usage: 202.6+ KB\n",
      "3 Columns have missing values\n"
     ]
    }
   ],
   "source": [
    "#How Many Columns Have Missing Values\n",
    "\n",
    "df.info()\n",
    "\n",
    "print(\"3 Columns have missing values\")"
   ]
  },
  {
   "cell_type": "code",
   "execution_count": 6,
   "id": "79fd5a9f",
   "metadata": {},
   "outputs": [
    {
     "name": "stdout",
     "output_type": "stream",
     "text": [
      "3936 is the maximum final price of Dell Notebooks in the Dataset\n"
     ]
    }
   ],
   "source": [
    "#Max Final Price\n",
    "\n",
    "df[df['Brand'] == 'Dell']['Final Price'].max()\n",
    "\n",
    "print(\"3936 is the maximum final price of Dell Notebooks in the Dataset\")"
   ]
  },
  {
   "cell_type": "code",
   "execution_count": 7,
   "id": "0de95b92",
   "metadata": {},
   "outputs": [
    {
     "name": "stdout",
     "output_type": "stream",
     "text": [
      "Median hasn't changed\n"
     ]
    }
   ],
   "source": [
    "#Median Value os Screen\n",
    "\n",
    "df['Screen'].median()\n",
    "df['Screen'].mode()\n",
    "\n",
    "df['Screen'].fillna(\"0\")\n",
    "df['Screen'].median()\n",
    "\n",
    "print(\"Median hasn't changed\")"
   ]
  },
  {
   "cell_type": "code",
   "execution_count": null,
   "id": "c5db93fb",
   "metadata": {},
   "outputs": [],
   "source": [
    "Innjoo = df[df['Brand'] == 'Innjoo']\n",
    "X = Innjoo[['RAM', 'Storage', 'Screen']]\n",
    "XT = X.T"
   ]
  },
  {
   "cell_type": "code",
   "execution_count": 12,
   "id": "fea6334b",
   "metadata": {},
   "outputs": [
    {
     "data": {
      "text/plain": [
       "(6, 3)"
      ]
     },
     "execution_count": 12,
     "metadata": {},
     "output_type": "execute_result"
    }
   ],
   "source": [
    "X.shape"
   ]
  },
  {
   "cell_type": "code",
   "execution_count": 11,
   "id": "b01be726",
   "metadata": {},
   "outputs": [
    {
     "data": {
      "text/plain": [
       "(3, 6)"
      ]
     },
     "execution_count": 11,
     "metadata": {},
     "output_type": "execute_result"
    }
   ],
   "source": [
    "XT.shape"
   ]
  },
  {
   "cell_type": "code",
   "execution_count": 19,
   "id": "830ac1ef",
   "metadata": {},
   "outputs": [
    {
     "data": {
      "text/plain": [
       "array([[ 65843.36, 131379.36,  16635.96,  16651.96,  33035.96,  33035.96],\n",
       "       [131379.36, 262451.36,  33019.96,  33035.96,  65803.96,  65803.96],\n",
       "       [ 16635.96,  33019.96,   4310.81,   4318.81,   8414.81,   8414.81],\n",
       "       [ 16651.96,  33035.96,   4318.81,   4330.81,   8426.81,   8426.81],\n",
       "       [ 33035.96,  65803.96,   8414.81,   8426.81,  16618.81,  16618.81],\n",
       "       [ 33035.96,  65803.96,   8414.81,   8426.81,  16618.81,  16618.81]])"
      ]
     },
     "execution_count": 19,
     "metadata": {},
     "output_type": "execute_result"
    }
   ],
   "source": [
    "XTX = np.dot(X, XT)\n",
    "XTX"
   ]
  },
  {
   "cell_type": "code",
   "execution_count": 21,
   "id": "9de18dab",
   "metadata": {},
   "outputs": [
    {
     "data": {
      "text/plain": [
       "(6, 6)"
      ]
     },
     "execution_count": 21,
     "metadata": {},
     "output_type": "execute_result"
    }
   ],
   "source": [
    "XTX_inv = np.linalg.inv(XTX)\n",
    "XTX_inv.shape"
   ]
  },
  {
   "cell_type": "code",
   "execution_count": 22,
   "id": "2e61343a",
   "metadata": {},
   "outputs": [],
   "source": [
    "y = np.array([1100, 1300, 800, 900, 1000, 1100])\n",
    "\n",
    "w = np.dot(XTX_inv, y)"
   ]
  },
  {
   "cell_type": "code",
   "execution_count": 25,
   "id": "2fa269b2",
   "metadata": {},
   "outputs": [
    {
     "data": {
      "text/plain": [
       "(array([-7.94393789e+13, -2.81602814e+13, -7.32593432e+13, -2.31687558e+14,\n",
       "         1.79132724e+14,  2.44860610e+14]),\n",
       " np.float64(11446772379611.125))"
      ]
     },
     "execution_count": 25,
     "metadata": {},
     "output_type": "execute_result"
    }
   ],
   "source": [
    "w, w.sum()"
   ]
  },
  {
   "cell_type": "code",
   "execution_count": null,
   "id": "98148ddc",
   "metadata": {},
   "outputs": [],
   "source": []
  }
 ],
 "metadata": {
  "kernelspec": {
   "display_name": "ml-zoomcamp",
   "language": "python",
   "name": "python3"
  },
  "language_info": {
   "codemirror_mode": {
    "name": "ipython",
    "version": 3
   },
   "file_extension": ".py",
   "mimetype": "text/x-python",
   "name": "python",
   "nbconvert_exporter": "python",
   "pygments_lexer": "ipython3",
   "version": "3.12.11"
  }
 },
 "nbformat": 4,
 "nbformat_minor": 5
}
