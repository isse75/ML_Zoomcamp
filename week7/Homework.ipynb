{
 "cells": [
  {
   "cell_type": "markdown",
   "id": "008c31c0-2019-4083-b138-ec216d4d03be",
   "metadata": {},
   "source": [
    "# Homework - CNN (Week 7)"
   ]
  },
  {
   "cell_type": "code",
   "execution_count": 1,
   "id": "619c1743-329d-4b40-9bb5-426dae8aba22",
   "metadata": {},
   "outputs": [
    {
     "name": "stderr",
     "output_type": "stream",
     "text": [
      "2025-07-17 10:47:48.773056: I tensorflow/core/util/port.cc:113] oneDNN custom operations are on. You may see slightly different numerical results due to floating-point round-off errors from different computation orders. To turn them off, set the environment variable `TF_ENABLE_ONEDNN_OPTS=0`.\n",
      "2025-07-17 10:47:48.788931: E external/local_xla/xla/stream_executor/cuda/cuda_fft.cc:479] Unable to register cuFFT factory: Attempting to register factory for plugin cuFFT when one has already been registered\n",
      "2025-07-17 10:47:48.813588: E external/local_xla/xla/stream_executor/cuda/cuda_dnn.cc:10575] Unable to register cuDNN factory: Attempting to register factory for plugin cuDNN when one has already been registered\n",
      "2025-07-17 10:47:48.813627: E external/local_xla/xla/stream_executor/cuda/cuda_blas.cc:1442] Unable to register cuBLAS factory: Attempting to register factory for plugin cuBLAS when one has already been registered\n",
      "2025-07-17 10:47:48.828633: I tensorflow/core/platform/cpu_feature_guard.cc:210] This TensorFlow binary is optimized to use available CPU instructions in performance-critical operations.\n",
      "To enable the following instructions: AVX2 AVX512F AVX512_VNNI FMA, in other operations, rebuild TensorFlow with the appropriate compiler flags.\n",
      "2025-07-17 10:47:49.777722: W tensorflow/compiler/tf2tensorrt/utils/py_utils.cc:38] TF-TRT Warning: Could not find TensorRT\n",
      "/home/ec2-user/anaconda3/envs/tensorflow2_p310/lib/python3.10/site-packages/pandas/core/computation/expressions.py:21: UserWarning: Pandas requires version '2.8.4' or newer of 'numexpr' (version '2.7.3' currently installed).\n",
      "  from pandas.core.computation.check import NUMEXPR_INSTALLED\n"
     ]
    }
   ],
   "source": [
    "import os\n",
    "import shutil\n",
    "\n",
    "import numpy as np\n",
    "import matplotlib.pyplot as plt\n",
    "\n",
    "from tensorflow import keras\n",
    "\n",
    "from tensorflow.keras import layers\n",
    "from tensorflow.keras import models\n",
    "from tensorflow.keras import optimizers\n",
    "\n",
    "from tensorflow.keras.preprocessing.image import ImageDataGenerator\n",
    "from tensorflow.keras.preprocessing import image"
   ]
  },
  {
   "cell_type": "code",
   "execution_count": 2,
   "id": "3a98732e-69ee-4c32-b6f5-857949595fb7",
   "metadata": {},
   "outputs": [
    {
     "data": {
      "text/plain": [
       "'2.16.2'"
      ]
     },
     "execution_count": 2,
     "metadata": {},
     "output_type": "execute_result"
    }
   ],
   "source": [
    "import tensorflow as tf\n",
    "tf.__version__"
   ]
  },
  {
   "cell_type": "code",
   "execution_count": 3,
   "id": "5c78dfc4-461f-4d04-bf75-d31e51fddac3",
   "metadata": {},
   "outputs": [],
   "source": [
    "SEED = 42\n",
    "np.random.seed(SEED)\n",
    "tf.random.set_seed(SEED)"
   ]
  },
  {
   "cell_type": "code",
   "execution_count": 4,
   "id": "d1831eec-c855-4372-8af5-68b0f7ad70f3",
   "metadata": {},
   "outputs": [],
   "source": [
    "train_dir = 'data/train'\n",
    "test_dir = 'data/test'"
   ]
  },
  {
   "cell_type": "code",
   "execution_count": 5,
   "id": "13f6e713-1396-4aa6-8e06-4ddf16d76a63",
   "metadata": {},
   "outputs": [
    {
     "name": "stderr",
     "output_type": "stream",
     "text": [
      "2025-07-17 10:47:50.894959: I external/local_xla/xla/stream_executor/cuda/cuda_executor.cc:998] successful NUMA node read from SysFS had negative value (-1), but there must be at least one NUMA node, so returning NUMA node zero. See more at https://github.com/torvalds/linux/blob/v6.0/Documentation/ABI/testing/sysfs-bus-pci#L344-L355\n",
      "2025-07-17 10:47:50.944854: I external/local_xla/xla/stream_executor/cuda/cuda_executor.cc:998] successful NUMA node read from SysFS had negative value (-1), but there must be at least one NUMA node, so returning NUMA node zero. See more at https://github.com/torvalds/linux/blob/v6.0/Documentation/ABI/testing/sysfs-bus-pci#L344-L355\n",
      "2025-07-17 10:47:50.948240: I external/local_xla/xla/stream_executor/cuda/cuda_executor.cc:998] successful NUMA node read from SysFS had negative value (-1), but there must be at least one NUMA node, so returning NUMA node zero. See more at https://github.com/torvalds/linux/blob/v6.0/Documentation/ABI/testing/sysfs-bus-pci#L344-L355\n",
      "2025-07-17 10:47:50.951972: I external/local_xla/xla/stream_executor/cuda/cuda_executor.cc:998] successful NUMA node read from SysFS had negative value (-1), but there must be at least one NUMA node, so returning NUMA node zero. See more at https://github.com/torvalds/linux/blob/v6.0/Documentation/ABI/testing/sysfs-bus-pci#L344-L355\n",
      "2025-07-17 10:47:50.955223: I external/local_xla/xla/stream_executor/cuda/cuda_executor.cc:998] successful NUMA node read from SysFS had negative value (-1), but there must be at least one NUMA node, so returning NUMA node zero. See more at https://github.com/torvalds/linux/blob/v6.0/Documentation/ABI/testing/sysfs-bus-pci#L344-L355\n",
      "2025-07-17 10:47:50.958231: I external/local_xla/xla/stream_executor/cuda/cuda_executor.cc:998] successful NUMA node read from SysFS had negative value (-1), but there must be at least one NUMA node, so returning NUMA node zero. See more at https://github.com/torvalds/linux/blob/v6.0/Documentation/ABI/testing/sysfs-bus-pci#L344-L355\n",
      "2025-07-17 10:47:51.107235: I external/local_xla/xla/stream_executor/cuda/cuda_executor.cc:998] successful NUMA node read from SysFS had negative value (-1), but there must be at least one NUMA node, so returning NUMA node zero. See more at https://github.com/torvalds/linux/blob/v6.0/Documentation/ABI/testing/sysfs-bus-pci#L344-L355\n",
      "2025-07-17 10:47:51.108433: I external/local_xla/xla/stream_executor/cuda/cuda_executor.cc:998] successful NUMA node read from SysFS had negative value (-1), but there must be at least one NUMA node, so returning NUMA node zero. See more at https://github.com/torvalds/linux/blob/v6.0/Documentation/ABI/testing/sysfs-bus-pci#L344-L355\n",
      "2025-07-17 10:47:51.109497: I external/local_xla/xla/stream_executor/cuda/cuda_executor.cc:998] successful NUMA node read from SysFS had negative value (-1), but there must be at least one NUMA node, so returning NUMA node zero. See more at https://github.com/torvalds/linux/blob/v6.0/Documentation/ABI/testing/sysfs-bus-pci#L344-L355\n",
      "2025-07-17 10:47:51.110512: I tensorflow/core/common_runtime/gpu/gpu_device.cc:1928] Created device /job:localhost/replica:0/task:0/device:GPU:0 with 13764 MB memory:  -> device: 0, name: Tesla T4, pci bus id: 0000:00:1e.0, compute capability: 7.5\n"
     ]
    }
   ],
   "source": [
    "model = models.Sequential()\n",
    "model.add(layers.Input(shape=(200,200,3)))\n",
    "model.add(layers.Conv2D(32, kernel_size=(3,3), activation='relu'))\n",
    "model.add(layers.MaxPooling2D(pool_size=(2,2)))\n",
    "model.add(layers.Flatten())\n",
    "model.add(layers.Dense(64, activation='relu'))\n",
    "model.add(layers.Dense(1, activation='sigmoid'))"
   ]
  },
  {
   "cell_type": "markdown",
   "id": "69d96f89-0ade-4c50-a423-34a06db0f8f5",
   "metadata": {},
   "source": [
    "Best Loss Function is binary crossentropy."
   ]
  },
  {
   "cell_type": "markdown",
   "id": "c682afb8-131a-48f6-a678-06ce5abd1ffd",
   "metadata": {},
   "source": [
    "## Question 2"
   ]
  },
  {
   "cell_type": "code",
   "execution_count": 6,
   "id": "f0a28361-5141-448d-bf4b-2205f4b1f0b8",
   "metadata": {},
   "outputs": [
    {
     "name": "stdout",
     "output_type": "stream",
     "text": [
      "Model: \"sequential\"\n",
      "_________________________________________________________________\n",
      " Layer (type)                Output Shape              Param #   \n",
      "=================================================================\n",
      " conv2d (Conv2D)             (None, 198, 198, 32)      896       \n",
      "                                                                 \n",
      " max_pooling2d (MaxPooling2  (None, 99, 99, 32)        0         \n",
      " D)                                                              \n",
      "                                                                 \n",
      " flatten (Flatten)           (None, 313632)            0         \n",
      "                                                                 \n",
      " dense (Dense)               (None, 64)                20072512  \n",
      "                                                                 \n",
      " dense_1 (Dense)             (None, 1)                 65        \n",
      "                                                                 \n",
      "=================================================================\n",
      "Total params: 20073473 (76.57 MB)\n",
      "Trainable params: 20073473 (76.57 MB)\n",
      "Non-trainable params: 0 (0.00 Byte)\n",
      "_________________________________________________________________\n"
     ]
    }
   ],
   "source": [
    "model.summary()"
   ]
  },
  {
   "cell_type": "markdown",
   "id": "35d13753-a74f-4daa-9ae9-437be448a245",
   "metadata": {},
   "source": [
    "20073473"
   ]
  },
  {
   "cell_type": "markdown",
   "id": "2993cc59-d6eb-470b-a795-c7642316c364",
   "metadata": {},
   "source": [
    "## Question 3 & 4"
   ]
  },
  {
   "cell_type": "code",
   "execution_count": 7,
   "id": "2db87c31-1519-4a33-808a-269d2adeb1b8",
   "metadata": {},
   "outputs": [
    {
     "name": "stdout",
     "output_type": "stream",
     "text": [
      "Found 800 images belonging to 2 classes.\n",
      "Found 201 images belonging to 2 classes.\n"
     ]
    }
   ],
   "source": [
    "train_gen = ImageDataGenerator(rescale=1./255) \n",
    "\n",
    "train_generator = train_gen.flow_from_directory(\n",
    "    train_dir,\n",
    "    target_size=(200, 200),\n",
    "    batch_size=20,\n",
    "    class_mode='binary'\n",
    ")\n",
    "\n",
    "val_gen = ImageDataGenerator(rescale=1./255) \n",
    "\n",
    "val_generator = val_gen.flow_from_directory(\n",
    "    test_dir,\n",
    "    target_size=(200, 200),\n",
    "    batch_size=20,\n",
    "    class_mode='binary'\n",
    ")"
   ]
  },
  {
   "cell_type": "code",
   "execution_count": 8,
   "id": "70d5597c-4bf7-4acc-adb5-dc7e5c9eb907",
   "metadata": {},
   "outputs": [
    {
     "name": "stdout",
     "output_type": "stream",
     "text": [
      "data batch shape: (20, 200, 200, 3)\n",
      "labels batch shape: (20,)\n"
     ]
    }
   ],
   "source": [
    "for data_batch, labels_batch in train_generator:\n",
    "    print('data batch shape:', data_batch.shape)\n",
    "    print('labels batch shape:', labels_batch.shape)\n",
    "    break"
   ]
  },
  {
   "cell_type": "code",
   "execution_count": 11,
   "id": "64d6b667-0d7b-4bbc-b833-abf7a4b4bf81",
   "metadata": {},
   "outputs": [],
   "source": [
    "model.compile(loss='binary_crossentropy',\\\n",
    "             optimizer=optimizers.SGD(learning_rate=0.002, momentum=0.8),\\\n",
    "             metrics=['acc'])"
   ]
  },
  {
   "cell_type": "code",
   "execution_count": 12,
   "id": "3c22984b-84c2-4ca0-89f3-35599f0b5466",
   "metadata": {
    "scrolled": true
   },
   "outputs": [
    {
     "name": "stdout",
     "output_type": "stream",
     "text": [
      "Epoch 1/10\n"
     ]
    },
    {
     "name": "stderr",
     "output_type": "stream",
     "text": [
      "2025-07-17 10:49:44.156834: I external/local_xla/xla/stream_executor/cuda/cuda_dnn.cc:465] Loaded cuDNN version 8907\n",
      "WARNING: All log messages before absl::InitializeLog() is called are written to STDERR\n",
      "I0000 00:00:1752749399.503565    3663 service.cc:145] XLA service 0x7efbffe1a680 initialized for platform CUDA (this does not guarantee that XLA will be used). Devices:\n",
      "I0000 00:00:1752749399.503600    3663 service.cc:153]   StreamExecutor device (0): Tesla T4, Compute Capability 7.5\n",
      "I0000 00:00:1752749400.158223    3663 device_compiler.h:188] Compiled cluster using XLA!  This line is logged at most once for the lifetime of the process.\n"
     ]
    },
    {
     "name": "stdout",
     "output_type": "stream",
     "text": [
      "40/40 [==============================] - 40s 168ms/step - loss: 0.6948 - acc: 0.5300 - val_loss: 0.6974 - val_acc: 0.5124\n",
      "Epoch 2/10\n",
      "40/40 [==============================] - 5s 133ms/step - loss: 0.6609 - acc: 0.6025 - val_loss: 0.6795 - val_acc: 0.5771\n",
      "Epoch 3/10\n",
      "40/40 [==============================] - 5s 136ms/step - loss: 0.6117 - acc: 0.6812 - val_loss: 0.6240 - val_acc: 0.6368\n",
      "Epoch 4/10\n",
      "40/40 [==============================] - 5s 135ms/step - loss: 0.5716 - acc: 0.6925 - val_loss: 0.6271 - val_acc: 0.6567\n",
      "Epoch 5/10\n",
      "40/40 [==============================] - 5s 135ms/step - loss: 0.5724 - acc: 0.6925 - val_loss: 0.6121 - val_acc: 0.6368\n",
      "Epoch 6/10\n",
      "40/40 [==============================] - 5s 136ms/step - loss: 0.5362 - acc: 0.7325 - val_loss: 0.6331 - val_acc: 0.6368\n",
      "Epoch 7/10\n",
      "40/40 [==============================] - 5s 136ms/step - loss: 0.5438 - acc: 0.7125 - val_loss: 0.6149 - val_acc: 0.6517\n",
      "Epoch 8/10\n",
      "40/40 [==============================] - 5s 134ms/step - loss: 0.5177 - acc: 0.7462 - val_loss: 0.5997 - val_acc: 0.6716\n",
      "Epoch 9/10\n",
      "40/40 [==============================] - 5s 136ms/step - loss: 0.5156 - acc: 0.7375 - val_loss: 0.6964 - val_acc: 0.6169\n",
      "Epoch 10/10\n",
      "40/40 [==============================] - 5s 136ms/step - loss: 0.4958 - acc: 0.7600 - val_loss: 0.5847 - val_acc: 0.6716\n"
     ]
    }
   ],
   "source": [
    "history = model.fit(\n",
    "    train_generator,\n",
    "    epochs=10,\n",
    "    validation_data=val_generator\n",
    ")"
   ]
  },
  {
   "cell_type": "code",
   "execution_count": 24,
   "id": "32067744-4265-43bf-b471-60553d88411e",
   "metadata": {},
   "outputs": [
    {
     "data": {
      "image/png": "[encoded data removed]",
      "text/plain": [
       "<Figure size 640x480 with 1 Axes>"
      ]
     },
     "metadata": {},
     "output_type": "display_data"
    },
    {
     "data": {
      "image/png": "[encoded data removed]",
      "text/plain": [
       "<Figure size 640x480 with 1 Axes>"
      ]
     },
     "metadata": {},
     "output_type": "display_data"
    }
   ],
   "source": [
    "acc = history.history['acc']\n",
    "val_acc = history.history['val_acc']\n",
    "loss = history.history['loss']\n",
    "val_loss = history.history['val_loss']\n",
    "\n",
    "epochs = range(1, len(acc) + 1)\n",
    "\n",
    "plt.plot(epochs, acc, 'bo', label='Training acc')\n",
    "plt.plot(epochs, val_acc, 'b', label='Validation acc')\n",
    "plt.title('Training and Validation Accuracy')\n",
    "plt.legend()\n",
    "\n",
    "plt.figure()\n",
    "\n",
    "plt.plot(epochs, loss, 'bo', label='Training loss')\n",
    "plt.plot(epochs, val_loss, 'b', label='Validation loss')\n",
    "plt.title('Training and Validation Loss')\n",
    "plt.legend()\n",
    "\n",
    "plt.show()"
   ]
  },
  {
   "cell_type": "code",
   "execution_count": 25,
   "id": "730382d5-6105-4e6a-a62f-5bcdaec98d12",
   "metadata": {},
   "outputs": [
    {
     "data": {
      "text/plain": [
       "0.7024999856948853"
      ]
     },
     "execution_count": 25,
     "metadata": {},
     "output_type": "execute_result"
    }
   ],
   "source": [
    "np.median(acc)"
   ]
  },
  {
   "cell_type": "code",
   "execution_count": 26,
   "id": "c2dae3e6-d311-4cb1-9475-2c84c604e6d5",
   "metadata": {},
   "outputs": [
    {
     "data": {
      "text/plain": [
       "0.06210338383520194"
      ]
     },
     "execution_count": 26,
     "metadata": {},
     "output_type": "execute_result"
    }
   ],
   "source": [
    "np.std(loss)"
   ]
  },
  {
   "cell_type": "markdown",
   "id": "bbe4fd9a-3a4c-40ff-9c7e-2f89ee02e18e",
   "metadata": {},
   "source": [
    "## Question 5 & 6"
   ]
  },
  {
   "cell_type": "code",
   "execution_count": 29,
   "id": "be53dba6-dc76-4bc0-95fc-91923988fc03",
   "metadata": {},
   "outputs": [
    {
     "name": "stdout",
     "output_type": "stream",
     "text": [
      "Found 800 images belonging to 2 classes.\n"
     ]
    }
   ],
   "source": [
    "train_gen = ImageDataGenerator(rescale=1./255,\n",
    "                               rotation_range=50,\n",
    "                               width_shift_range=0.1,\n",
    "                               height_shift_range=0.1,\n",
    "                               zoom_range=0.1,\n",
    "                               horizontal_flip=True,\n",
    "                               fill_mode='nearest')\n",
    "\n",
    "train_generator = train_gen.flow_from_directory(\n",
    "    train_dir,\n",
    "    target_size=(200, 200),\n",
    "    batch_size=20,\n",
    "    class_mode='binary'\n",
    ")"
   ]
  },
  {
   "cell_type": "code",
   "execution_count": 31,
   "id": "8361e18f-81bf-4198-ab27-ff2d597e9cf3",
   "metadata": {},
   "outputs": [
    {
     "name": "stdout",
     "output_type": "stream",
     "text": [
      "Epoch 1/10\n",
      "40/40 [==============================] - 11s 284ms/step - loss: 0.6121 - acc: 0.6438 - val_loss: 0.5804 - val_acc: 0.6766\n",
      "Epoch 2/10\n",
      "40/40 [==============================] - 11s 284ms/step - loss: 0.5998 - acc: 0.6687 - val_loss: 0.5758 - val_acc: 0.6716\n",
      "Epoch 3/10\n",
      "40/40 [==============================] - 11s 277ms/step - loss: 0.6041 - acc: 0.6687 - val_loss: 0.5711 - val_acc: 0.6766\n",
      "Epoch 4/10\n",
      "40/40 [==============================] - 11s 282ms/step - loss: 0.5988 - acc: 0.6587 - val_loss: 0.5975 - val_acc: 0.6965\n",
      "Epoch 5/10\n",
      "40/40 [==============================] - 11s 281ms/step - loss: 0.6035 - acc: 0.6787 - val_loss: 0.5873 - val_acc: 0.6617\n",
      "Epoch 6/10\n",
      "40/40 [==============================] - 11s 278ms/step - loss: 0.5999 - acc: 0.6737 - val_loss: 0.5963 - val_acc: 0.6816\n",
      "Epoch 7/10\n",
      "40/40 [==============================] - 11s 279ms/step - loss: 0.5942 - acc: 0.6762 - val_loss: 0.5788 - val_acc: 0.7114\n",
      "Epoch 8/10\n",
      "40/40 [==============================] - 11s 281ms/step - loss: 0.5813 - acc: 0.6963 - val_loss: 0.5997 - val_acc: 0.6866\n",
      "Epoch 9/10\n",
      "40/40 [==============================] - 11s 275ms/step - loss: 0.5615 - acc: 0.7075 - val_loss: 0.5491 - val_acc: 0.7015\n",
      "Epoch 10/10\n",
      "40/40 [==============================] - 11s 276ms/step - loss: 0.5909 - acc: 0.6812 - val_loss: 0.5724 - val_acc: 0.7065\n"
     ]
    }
   ],
   "source": [
    "history = model.fit(\n",
    "    train_generator,\n",
    "    epochs=10,\n",
    "    validation_data=val_generator\n",
    ")"
   ]
  },
  {
   "cell_type": "code",
   "execution_count": 32,
   "id": "f8567bb1-f8c0-4aac-812c-3689493ef39c",
   "metadata": {},
   "outputs": [],
   "source": [
    "val_loss = history.history['loss']"
   ]
  },
  {
   "cell_type": "code",
   "execution_count": 33,
   "id": "dbfb0ae6-560a-4b96-b73d-58c204017875",
   "metadata": {},
   "outputs": [
    {
     "data": {
      "text/plain": [
       "0.5946123719215393"
      ]
     },
     "execution_count": 33,
     "metadata": {},
     "output_type": "execute_result"
    }
   ],
   "source": [
    "np.mean(val_loss)"
   ]
  },
  {
   "cell_type": "code",
   "execution_count": 39,
   "id": "a21d95fc-c12c-4043-a701-18720bbe7c44",
   "metadata": {},
   "outputs": [],
   "source": [
    "val_acc = history.history['val_acc'][:-5]"
   ]
  },
  {
   "cell_type": "code",
   "execution_count": 41,
   "id": "aa9fd82d-3685-4dab-b7bd-ded8d8ebd40c",
   "metadata": {},
   "outputs": [
    {
     "data": {
      "text/plain": [
       "0.676616907119751"
      ]
     },
     "execution_count": 41,
     "metadata": {},
     "output_type": "execute_result"
    }
   ],
   "source": [
    "np.mean(val_acc)"
   ]
  },
  {
   "cell_type": "code",
   "execution_count": null,
   "id": "8201a825-1d1c-44a8-bd39-fa70b3d21f35",
   "metadata": {},
   "outputs": [],
   "source": []
  }
 ],
 "metadata": {
  "kernelspec": {
   "display_name": "conda_tensorflow2_p310",
   "language": "python",
   "name": "conda_tensorflow2_p310"
  },
  "language_info": {
   "codemirror_mode": {
    "name": "ipython",
    "version": 3
   },
   "file_extension": ".py",
   "mimetype": "text/x-python",
   "name": "python",
   "nbconvert_exporter": "python",
   "pygments_lexer": "ipython3",
   "version": "3.10.18"
  }
 },
 "nbformat": 4,
 "nbformat_minor": 5
}
