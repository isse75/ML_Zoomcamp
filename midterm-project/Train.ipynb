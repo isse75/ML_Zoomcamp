{
 "cells": [
  {
   "cell_type": "code",
   "execution_count": 39,
   "id": "94caeca0-1900-4434-a284-c3b29dc907e5",
   "metadata": {},
   "outputs": [],
   "source": [
    "import pickle\n",
    "import numpy as np\n",
    "import pandas as pd\n",
    "from sklearn.model_selection import train_test_split, KFold\n",
    "from sklearn.feature_extraction import DictVectorizer\n",
    "from sklearn.linear_model import LogisticRegression\n",
    "from sklearn.metrics import roc_auc_score\n",
    "\n",
    "import warnings\n",
    "warnings.filterwarnings(\"ignore\")"
   ]
  },
  {
   "cell_type": "code",
   "execution_count": 5,
   "id": "18e774ac-d54a-49bd-bf88-58470f809cfe",
   "metadata": {},
   "outputs": [],
   "source": [
    "df = pd.read_csv('data/Heart_disease_cleveland_new.csv')"
   ]
  },
  {
   "cell_type": "code",
   "execution_count": 9,
   "id": "93c5451b-07f3-4520-bcbb-622ae4f435c9",
   "metadata": {},
   "outputs": [],
   "source": [
    "df.rename(columns={'cp':'chest_pain_type',\n",
    "                  'trestbps':'resting_bp',\n",
    "                  'fbs':'fasting_blood_sugar',\n",
    "                  'restecg':'resting_ecg',\n",
    "                   'thalach':'max_hr_achieved',\n",
    "                  'exang':'exercise_angina',\n",
    "                  'oldpeak':'st_depression',\n",
    "                   'slope':'st_slope',\n",
    "                   'ca':'no_vessels_fluoroscopy',\n",
    "                   'thal':'thal_result',\n",
    "                   'target':'heart_disease'\n",
    "                  }, inplace = True)"
   ]
  },
  {
   "cell_type": "code",
   "execution_count": 11,
   "id": "d7fe0ae9-7fd6-415a-9a48-f5c3ec184d1c",
   "metadata": {},
   "outputs": [],
   "source": [
    "numerical = ['age', 'resting_bp', 'chol', 'max_hr_achieved', 'st_depression',\n",
    "             'no_vessels_fluoroscopy']\n",
    "\n",
    "categorical = ['sex', 'chest_pain_type', 'fasting_blood_sugar', 'resting_ecg', \n",
    "               'exercise_angina', 'st_slope', 'thal_result']\n",
    "\n",
    "for c in categorical:\n",
    "    df[c] = df[c].astype(\"object\")"
   ]
  },
  {
   "cell_type": "code",
   "execution_count": 17,
   "id": "499e086f-3db4-4215-842c-f12dc35981ce",
   "metadata": {},
   "outputs": [],
   "source": [
    "df_full_train, df_test = train_test_split(df, test_size=0.2, random_state=1)"
   ]
  },
  {
   "cell_type": "code",
   "execution_count": 21,
   "id": "0bd8113a-66bc-408a-93d2-1d606218845d",
   "metadata": {},
   "outputs": [],
   "source": [
    "def train(df_train, y_train, C=1.0):\n",
    "    dicts_train = df_train[categorical+numerical].to_dict(orient='records')\n",
    "    \n",
    "    dv = DictVectorizer(sparse=False)\n",
    "    X_train = dv.fit_transform(dicts_train)\n",
    "\n",
    "    model = LogisticRegression(solver='lbfgs', max_iter = 1000, C=C)\n",
    "    model.fit(X_train, y_train)\n",
    "\n",
    "    return dv, model\n",
    "\n",
    "def predict(df, dv, model):\n",
    "    dicts = df[categorical+numerical].to_dict(orient='records')\n",
    "\n",
    "    X = dv.transform(dicts)\n",
    "\n",
    "    y_pred = model.predict_proba(X)[:, 1]\n",
    "\n",
    "    return y_pred"
   ]
  },
  {
   "cell_type": "code",
   "execution_count": 25,
   "id": "f541aaae-1150-4749-b1dc-eb652bf7a469",
   "metadata": {},
   "outputs": [],
   "source": [
    "C = 1.0\n",
    "n_splits = 5"
   ]
  },
  {
   "cell_type": "code",
   "execution_count": 33,
   "id": "27fa8794-c811-4edc-b36a-ae49fe74caff",
   "metadata": {},
   "outputs": [
    {
     "name": "stdout",
     "output_type": "stream",
     "text": [
      "C=1.0 0.946 +- 0.058\n"
     ]
    }
   ],
   "source": [
    "print(f'Doing {n_splits}-Fold Validation with C={C}')\n",
    "\n",
    "kfold = KFold(n_splits=n_splits, shuffle=True, random_state=1)\n",
    "\n",
    "scores = []\n",
    "\n",
    "for train_idx, val_idx in kfold.split(df_full_train):\n",
    "    df_train = df_full_train.iloc[train_idx]\n",
    "    df_val = df_full_train.iloc[val_idx]\n",
    "\n",
    "    y_train = df_train.heart_disease.values\n",
    "    y_val = df_val.heart_disease.values\n",
    "\n",
    "    dv, model = train(df_train, y_train, C=C)\n",
    "    y_pred = predict(df_val, dv, model)\n",
    "\n",
    "    auc = roc_auc_score(y_val, y_pred)\n",
    "    scores.append((C, auc))\n",
    "\n",
    "print('Validation Results:')\n",
    "print('C=%s %.3f +- %.3f' % (C, np.mean(scores), np.std(scores)))"
   ]
  },
  {
   "cell_type": "code",
   "execution_count": 37,
   "id": "5df7037c-b476-46e4-891d-edfebdb9bcb4",
   "metadata": {},
   "outputs": [
    {
     "name": "stdout",
     "output_type": "stream",
     "text": [
      "auc of the final model = 0.9019607843137255\n"
     ]
    }
   ],
   "source": [
    "#training the final model\n",
    "print('Training the final model')\n",
    "\n",
    "dv, model = train(df_full_train, df_full_train.heart_disease.values, C=1.0)\n",
    "y_pred = predict(df_test, dv, model)\n",
    "\n",
    "y_test = df_test.heart_disease.values\n",
    "auc = roc_auc_score(y_test, y_pred)\n",
    "\n",
    "print(f'auc of the final model = {auc}')"
   ]
  },
  {
   "cell_type": "code",
   "execution_count": 41,
   "id": "30c4b606-46c6-4a9f-bf0d-9e918b3b7cc1",
   "metadata": {},
   "outputs": [
    {
     "name": "stdout",
     "output_type": "stream",
     "text": [
      "model is saved to model_C=1.0.bin\n"
     ]
    }
   ],
   "source": [
    "# Save the model\n",
    "output_file = f'model_C={C}.bin' \n",
    "\n",
    "with open(output_file, 'wb') as f_out:        #f_out = file output\n",
    "    pickle.dump((dv, model), f_out)\n",
    "\n",
    "print(f'model is saved to {output_file}')"
   ]
  },
  {
   "cell_type": "code",
   "execution_count": null,
   "id": "67763b55-d49b-49a2-ae4c-190b5cb899d1",
   "metadata": {},
   "outputs": [],
   "source": []
  }
 ],
 "metadata": {
  "kernelspec": {
   "display_name": "Python 3 (ipykernel)",
   "language": "python",
   "name": "python3"
  },
  "language_info": {
   "codemirror_mode": {
    "name": "ipython",
    "version": 3
   },
   "file_extension": ".py",
   "mimetype": "text/x-python",
   "name": "python",
   "nbconvert_exporter": "python",
   "pygments_lexer": "ipython3",
   "version": "3.12.4"
  }
 },
 "nbformat": 4,
 "nbformat_minor": 5
}
